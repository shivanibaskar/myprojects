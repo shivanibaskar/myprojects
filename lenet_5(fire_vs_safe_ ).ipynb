{
  "nbformat": 4,
  "nbformat_minor": 0,
  "metadata": {
    "colab": {
      "name": "lenet 5(fire vs safe ).ipynb",
      "provenance": [],
      "collapsed_sections": [],
      "authorship_tag": "ABX9TyP5WnBTIKC4d62JRbUXHyQC",
      "include_colab_link": true
    },
    "kernelspec": {
      "name": "python3",
      "display_name": "Python 3"
    },
    "accelerator": "TPU"
  },
  "cells": [
    {
      "cell_type": "markdown",
      "metadata": {
        "id": "view-in-github",
        "colab_type": "text"
      },
      "source": [
        "<a href=\"https://colab.research.google.com/github/shivanibaskar/myprojects/blob/master/lenet_5(fire_vs_safe_%20).ipynb\" target=\"_parent\"><img src=\"https://colab.research.google.com/assets/colab-badge.svg\" alt=\"Open In Colab\"/></a>"
      ]
    },
    {
      "cell_type": "code",
      "metadata": {
        "id": "OoFHD-uz9VDK",
        "colab_type": "code",
        "colab": {
          "base_uri": "https://localhost:8080/",
          "height": 54
        },
        "outputId": "7a5c8a5e-c3f4-47e5-f6e3-ece451084869"
      },
      "source": [
        "from google.colab import drive\n",
        "drive.mount('/gdrive')\n",
        "%cd /gdrive"
      ],
      "execution_count": null,
      "outputs": [
        {
          "output_type": "stream",
          "text": [
            "Drive already mounted at /gdrive; to attempt to forcibly remount, call drive.mount(\"/gdrive\", force_remount=True).\n",
            "/gdrive\n"
          ],
          "name": "stdout"
        }
      ]
    },
    {
      "cell_type": "code",
      "metadata": {
        "id": "D9BHklMX9Wy3",
        "colab_type": "code",
        "colab": {}
      },
      "source": [
        "import tensorflow as tf\n",
        "from tensorflow import keras\n",
        "from tensorflow.keras import models,layers,losses,preprocessing\n",
        "import os \n",
        "from tensorflow.keras.preprocessing.image import ImageDataGenerator"
      ],
      "execution_count": null,
      "outputs": []
    },
    {
      "cell_type": "code",
      "metadata": {
        "id": "k5jQ2VNt900o",
        "colab_type": "code",
        "colab": {}
      },
      "source": [
        "train_path=\"/gdrive/My Drive/fire/fire_dataset\"\n",
        "test_path=\"/gdrive/My Drive/fire/test\"\n",
        "\n"
      ],
      "execution_count": null,
      "outputs": []
    },
    {
      "cell_type": "code",
      "metadata": {
        "id": "xkXOh_LQD-It",
        "colab_type": "code",
        "colab": {}
      },
      "source": [
        "train_image_generator = ImageDataGenerator(rescale=1./255) # Generator for our training data\n",
        "validation_image_generator = ImageDataGenerator(rescale=1./255) # Generator for our validation data\n"
      ],
      "execution_count": null,
      "outputs": []
    },
    {
      "cell_type": "code",
      "metadata": {
        "id": "-O_XSuwl_4HN",
        "colab_type": "code",
        "colab": {
          "base_uri": "https://localhost:8080/",
          "height": 54
        },
        "outputId": "cc5fc57a-6abb-4b43-896d-dfae5ffcc650"
      },
      "source": [
        "trainimages=train_image_generator.flow_from_directory(train_path,target_size=(256,256),class_mode=\"binary\",classes=[\"fire\",\"safe\"],color_mode=\"grayscale\")\n",
        "validationimages=validation_image_generator.flow_from_directory(test_path,target_size=(256,256),class_mode=\"binary\",classes=[\"fire\",\"safe\"],color_mode=\"grayscale\")\n"
      ],
      "execution_count": null,
      "outputs": [
        {
          "output_type": "stream",
          "text": [
            "Found 960 images belonging to 2 classes.\n",
            "Found 39 images belonging to 2 classes.\n"
          ],
          "name": "stdout"
        }
      ]
    },
    {
      "cell_type": "code",
      "metadata": {
        "id": "UZ60X4PCAPJ-",
        "colab_type": "code",
        "colab": {}
      },
      "source": [
        "model=models.Sequential()\n",
        "model.add(layers.Conv2D(6,(5,5),input_shape=(256,256,1),strides=(1,1),activation=\"tanh\",padding=\"same\"))\n",
        "model.add(layers.AveragePooling2D(pool_size=(2,2),strides=(2,2)))\n",
        "model.add(layers.Conv2D(16,(5,5),activation=\"tanh\"))\n",
        "model.add(layers.AveragePooling2D(pool_size=(2,2),strides=(2,2)))\n",
        "model.add(layers.Flatten())\n",
        "model.add(layers.Dense(120,activation=\"tanh\"))\n",
        "model.add(layers.Dense(84,activation=\"tanh\"))\n",
        "model.add(layers.Dense(2,activation=\"sigmoid\"))\n",
        "model.add(layers.Dense(1))"
      ],
      "execution_count": null,
      "outputs": []
    },
    {
      "cell_type": "code",
      "metadata": {
        "id": "GY8FyE8bIgSW",
        "colab_type": "code",
        "colab": {}
      },
      "source": [
        "model.compile(optimizer='adam',\n",
        "              loss=tf.keras.losses.BinaryCrossentropy(from_logits=True),\n",
        "              metrics=['accuracy'])"
      ],
      "execution_count": null,
      "outputs": []
    },
    {
      "cell_type": "code",
      "metadata": {
        "id": "GKURKJfoHXDV",
        "colab_type": "code",
        "colab": {
          "base_uri": "https://localhost:8080/",
          "height": 495
        },
        "outputId": "04541160-5029-4a31-df65-f4a0036c3cd4"
      },
      "source": [
        "model.summary()\n"
      ],
      "execution_count": null,
      "outputs": [
        {
          "output_type": "stream",
          "text": [
            "Model: \"sequential_2\"\n",
            "_________________________________________________________________\n",
            "Layer (type)                 Output Shape              Param #   \n",
            "=================================================================\n",
            "conv2d_4 (Conv2D)            (None, 256, 256, 6)       156       \n",
            "_________________________________________________________________\n",
            "average_pooling2d_4 (Average (None, 128, 128, 6)       0         \n",
            "_________________________________________________________________\n",
            "conv2d_5 (Conv2D)            (None, 124, 124, 16)      2416      \n",
            "_________________________________________________________________\n",
            "average_pooling2d_5 (Average (None, 62, 62, 16)        0         \n",
            "_________________________________________________________________\n",
            "flatten_2 (Flatten)          (None, 61504)             0         \n",
            "_________________________________________________________________\n",
            "dense_8 (Dense)              (None, 120)               7380600   \n",
            "_________________________________________________________________\n",
            "dense_9 (Dense)              (None, 84)                10164     \n",
            "_________________________________________________________________\n",
            "dense_10 (Dense)             (None, 2)                 170       \n",
            "_________________________________________________________________\n",
            "dense_11 (Dense)             (None, 1)                 3         \n",
            "=================================================================\n",
            "Total params: 7,393,509\n",
            "Trainable params: 7,393,509\n",
            "Non-trainable params: 0\n",
            "_________________________________________________________________\n"
          ],
          "name": "stdout"
        }
      ]
    },
    {
      "cell_type": "code",
      "metadata": {
        "id": "F0fysiGoL9Wt",
        "colab_type": "code",
        "colab": {}
      },
      "source": [
        "import datetime\n",
        "# Place the logs in a timestamped subdirectory\n",
        "# This allows to easy select different training runs\n",
        "# In order not to overwrite some data, it is useful to have a name with a timestamp\n",
        "log_dir=\"logs/fit/\" + datetime.datetime.now().strftime(\"%Y%m%d-%H%M%S\")\n",
        "# Specify the callback object\n",
        "tensorboard_callback = tf.keras.callbacks.TensorBoard(log_dir=log_dir, histogram_freq=1)\n",
        "\n",
        "# tf.keras.callback.TensorBoard ensures that logs are created and stored\n",
        "# We need to pass callback object to the fit method\n",
        "# The way to do this is by passing the list of callback objects, which is in our case just one"
      ],
      "execution_count": null,
      "outputs": []
    },
    {
      "cell_type": "code",
      "metadata": {
        "id": "QFSRmyqdJNG2",
        "colab_type": "code",
        "colab": {
          "base_uri": "https://localhost:8080/",
          "height": 384
        },
        "outputId": "6eb9ac4c-de62-4f4c-cf33-71bfdc8ff77c"
      },
      "source": [
        "history = model.fit_generator(\n",
        "    trainimages,\n",
        "    steps_per_epoch=20,\n",
        "    epochs=10,validation_data=validationimages)\n"
      ],
      "execution_count": null,
      "outputs": [
        {
          "output_type": "stream",
          "text": [
            "Epoch 1/10\n",
            "20/20 [==============================] - 211s 11s/step - loss: 0.7173 - accuracy: 0.7437 - val_loss: 0.6934 - val_accuracy: 0.4872\n",
            "Epoch 2/10\n",
            "20/20 [==============================] - 88s 4s/step - loss: 0.6867 - accuracy: 0.7672 - val_loss: 0.6937 - val_accuracy: 0.4872\n",
            "Epoch 3/10\n",
            "20/20 [==============================] - 57s 3s/step - loss: 0.6819 - accuracy: 0.7641 - val_loss: 0.6942 - val_accuracy: 0.4872\n",
            "Epoch 4/10\n",
            "20/20 [==============================] - 50s 2s/step - loss: 0.6773 - accuracy: 0.7625 - val_loss: 0.6947 - val_accuracy: 0.4872\n",
            "Epoch 5/10\n",
            "20/20 [==============================] - 47s 2s/step - loss: 0.6720 - accuracy: 0.7719 - val_loss: 0.6953 - val_accuracy: 0.4872\n",
            "Epoch 6/10\n",
            "20/20 [==============================] - 46s 2s/step - loss: 0.6676 - accuracy: 0.7703 - val_loss: 0.6960 - val_accuracy: 0.4872\n",
            "Epoch 7/10\n",
            "20/20 [==============================] - 46s 2s/step - loss: 0.6644 - accuracy: 0.7594 - val_loss: 0.6968 - val_accuracy: 0.4872\n",
            "Epoch 8/10\n",
            "20/20 [==============================] - 48s 2s/step - loss: 0.6606 - accuracy: 0.7578 - val_loss: 0.6976 - val_accuracy: 0.4872\n",
            "Epoch 9/10\n",
            "20/20 [==============================] - 46s 2s/step - loss: 0.6538 - accuracy: 0.7766 - val_loss: 0.6985 - val_accuracy: 0.4872\n",
            "Epoch 10/10\n",
            "20/20 [==============================] - 46s 2s/step - loss: 0.6526 - accuracy: 0.7594 - val_loss: 0.6995 - val_accuracy: 0.4872\n"
          ],
          "name": "stdout"
        }
      ]
    },
    {
      "cell_type": "code",
      "metadata": {
        "id": "fGK2lHn5Jbxs",
        "colab_type": "code",
        "colab": {
          "base_uri": "https://localhost:8080/",
          "height": 499
        },
        "outputId": "789c3805-5414-4b9d-ac93-1a00564dee6f"
      },
      "source": [
        "epochs=10\n",
        "import matplotlib.pyplot as plt\n",
        "acc = history.history['accuracy']\n",
        "val_acc = history.history['val_accuracy']\n",
        "\n",
        "loss=history.history['loss']\n",
        "val_loss=history.history['val_loss']\n",
        "\n",
        "epochs_range = range(epochs)\n",
        "\n",
        "plt.figure(figsize=(8, 8))\n",
        "plt.subplot(1, 2, 1)\n",
        "plt.plot(epochs_range, acc, label='Training Accuracy')\n",
        "plt.plot(epochs_range, val_acc, label='Validation Accuracy')\n",
        "plt.legend(loc='lower right')\n",
        "plt.title('Training and Validation Accuracy')\n",
        "\n",
        "plt.subplot(1, 2, 2)\n",
        "plt.plot(epochs_range, loss, label='Training Loss')\n",
        "plt.plot(epochs_range, val_loss, label='Validation Loss')\n",
        "plt.legend(loc='upper right')\n",
        "plt.title('Training and Validation Loss')\n",
        "plt.show()\n"
      ],
      "execution_count": 68,
      "outputs": [
        {
          "output_type": "display_data",
          "data": {
            "image/png": "[encoded data removed]",
            "text/plain": [
              "<Figure size 576x576 with 2 Axes>"
            ]
          },
          "metadata": {
            "tags": [],
            "needs_background": "light"
          }
        }
      ]
    },
    {
      "cell_type": "code",
      "metadata": {
        "id": "2uJ42GwHJ_0T",
        "colab_type": "code",
        "colab": {}
      },
      "source": [
        ""
      ],
      "execution_count": null,
      "outputs": []
    }
  ]
}